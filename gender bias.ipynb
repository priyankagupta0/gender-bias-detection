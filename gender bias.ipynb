{
 "cells": [
  {
   "cell_type": "markdown",
   "id": "c3337461",
   "metadata": {},
   "source": [
    "# Detecting Gender Bias in text using Word Embedding\n",
    "\n",
    "--> Word embeddings are vector representation of words that can be used as inputs to other tasks and ML models. In their paper https://arxiv.org/pdf/1607.06520.pdf, the authors have a list of occupations they found to have an extreme gender bias, either male or female. They found these by comparing the similarty of the vector of each occupation with the vectors for the words \"he\" and \"she\". In this case \"similarity\" was quantified as the inner product of two sets of vectors.\n",
    "\n",
    "--> Word2Vec and GloVe are pre-trained embeddings.the vectors that these authors used were trained using word2vec rather than GloVe. While Word2Vec is trained on 3 million word corpus of Google News, pre-trained GloVe embeddings are trained on the Wikipedia 2014 + Gigaword 5th Edition corpora.\n",
    "\n",
    "Some extreme 'she' occupations would be: librarian, socialite, hairdresser, nanny, bookkeeper, stylist, housekeeper etc.\n",
    "Some extreme 'he' occupations would be: architect, financier, warrior, broadcaster, magician, fighter pilot, boss etc.\n",
    "\n",
    "Considering the dissimilarities between the two embedding sets of extreme 'he' job and 'she' jobs, is it valid to assume that the correlations between the words \"he\" and \"she\" and the listed occupations still hold?"
   ]
  },
  {
   "cell_type": "code",
   "execution_count": 6,
   "id": "e979f199",
   "metadata": {},
   "outputs": [],
   "source": [
    "# import libraries which we will use.\n",
    "import pandas as pd\n",
    "import numpy as np\n",
    "import matplotlib.pyplot as plt\n",
    "import seaborn as sns"
   ]
  },
  {
   "cell_type": "code",
   "execution_count": 9,
   "id": "ae75d9ff",
   "metadata": {},
   "outputs": [
    {
     "data": {
      "text/plain": [
       "(400000, 50)"
      ]
     },
     "execution_count": 9,
     "metadata": {},
     "output_type": "execute_result"
    }
   ],
   "source": [
    "# read the text file\n",
    "# This dataset contains English word vectors pre-trained on the combined Wikipedia 2014 + Gigaword 5th Edition corpora (6B tokens, 400K vocab). This dataset contains 50-dimensional pre trained word vectors, sorted by frequency.a\n",
    "embeddings = pd.read_csv(\"glove.6B.50d.txt\",sep=\" \", header=None, quoting=3, index_col=0)\n",
    "embeddings.index.name = 'wording'\n",
    "embeddings.shape"
   ]
  },
  {
   "cell_type": "code",
   "execution_count": 10,
   "id": "66eca15d",
   "metadata": {},
   "outputs": [
    {
     "data": {
      "text/html": [
       "<div>\n",
       "<style scoped>\n",
       "    .dataframe tbody tr th:only-of-type {\n",
       "        vertical-align: middle;\n",
       "    }\n",
       "\n",
       "    .dataframe tbody tr th {\n",
       "        vertical-align: top;\n",
       "    }\n",
       "\n",
       "    .dataframe thead th {\n",
       "        text-align: right;\n",
       "    }\n",
       "</style>\n",
       "<table border=\"1\" class=\"dataframe\">\n",
       "  <thead>\n",
       "    <tr style=\"text-align: right;\">\n",
       "      <th></th>\n",
       "      <th>1</th>\n",
       "      <th>2</th>\n",
       "      <th>3</th>\n",
       "      <th>4</th>\n",
       "      <th>5</th>\n",
       "      <th>6</th>\n",
       "      <th>7</th>\n",
       "      <th>8</th>\n",
       "      <th>9</th>\n",
       "      <th>10</th>\n",
       "      <th>...</th>\n",
       "      <th>41</th>\n",
       "      <th>42</th>\n",
       "      <th>43</th>\n",
       "      <th>44</th>\n",
       "      <th>45</th>\n",
       "      <th>46</th>\n",
       "      <th>47</th>\n",
       "      <th>48</th>\n",
       "      <th>49</th>\n",
       "      <th>50</th>\n",
       "    </tr>\n",
       "    <tr>\n",
       "      <th>wording</th>\n",
       "      <th></th>\n",
       "      <th></th>\n",
       "      <th></th>\n",
       "      <th></th>\n",
       "      <th></th>\n",
       "      <th></th>\n",
       "      <th></th>\n",
       "      <th></th>\n",
       "      <th></th>\n",
       "      <th></th>\n",
       "      <th></th>\n",
       "      <th></th>\n",
       "      <th></th>\n",
       "      <th></th>\n",
       "      <th></th>\n",
       "      <th></th>\n",
       "      <th></th>\n",
       "      <th></th>\n",
       "      <th></th>\n",
       "      <th></th>\n",
       "      <th></th>\n",
       "    </tr>\n",
       "  </thead>\n",
       "  <tbody>\n",
       "    <tr>\n",
       "      <th>the</th>\n",
       "      <td>0.418000</td>\n",
       "      <td>0.249680</td>\n",
       "      <td>-0.41242</td>\n",
       "      <td>0.12170</td>\n",
       "      <td>0.34527</td>\n",
       "      <td>-0.044457</td>\n",
       "      <td>-0.49688</td>\n",
       "      <td>-0.17862</td>\n",
       "      <td>-0.00066</td>\n",
       "      <td>-0.656600</td>\n",
       "      <td>...</td>\n",
       "      <td>-0.298710</td>\n",
       "      <td>-0.157490</td>\n",
       "      <td>-0.347580</td>\n",
       "      <td>-0.045637</td>\n",
       "      <td>-0.44251</td>\n",
       "      <td>0.187850</td>\n",
       "      <td>0.002785</td>\n",
       "      <td>-0.184110</td>\n",
       "      <td>-0.115140</td>\n",
       "      <td>-0.78581</td>\n",
       "    </tr>\n",
       "    <tr>\n",
       "      <th>,</th>\n",
       "      <td>0.013441</td>\n",
       "      <td>0.236820</td>\n",
       "      <td>-0.16899</td>\n",
       "      <td>0.40951</td>\n",
       "      <td>0.63812</td>\n",
       "      <td>0.477090</td>\n",
       "      <td>-0.42852</td>\n",
       "      <td>-0.55641</td>\n",
       "      <td>-0.36400</td>\n",
       "      <td>-0.239380</td>\n",
       "      <td>...</td>\n",
       "      <td>-0.080262</td>\n",
       "      <td>0.630030</td>\n",
       "      <td>0.321110</td>\n",
       "      <td>-0.467650</td>\n",
       "      <td>0.22786</td>\n",
       "      <td>0.360340</td>\n",
       "      <td>-0.378180</td>\n",
       "      <td>-0.566570</td>\n",
       "      <td>0.044691</td>\n",
       "      <td>0.30392</td>\n",
       "    </tr>\n",
       "    <tr>\n",
       "      <th>.</th>\n",
       "      <td>0.151640</td>\n",
       "      <td>0.301770</td>\n",
       "      <td>-0.16763</td>\n",
       "      <td>0.17684</td>\n",
       "      <td>0.31719</td>\n",
       "      <td>0.339730</td>\n",
       "      <td>-0.43478</td>\n",
       "      <td>-0.31086</td>\n",
       "      <td>-0.44999</td>\n",
       "      <td>-0.294860</td>\n",
       "      <td>...</td>\n",
       "      <td>-0.000064</td>\n",
       "      <td>0.068987</td>\n",
       "      <td>0.087939</td>\n",
       "      <td>-0.102850</td>\n",
       "      <td>-0.13931</td>\n",
       "      <td>0.223140</td>\n",
       "      <td>-0.080803</td>\n",
       "      <td>-0.356520</td>\n",
       "      <td>0.016413</td>\n",
       "      <td>0.10216</td>\n",
       "    </tr>\n",
       "    <tr>\n",
       "      <th>of</th>\n",
       "      <td>0.708530</td>\n",
       "      <td>0.570880</td>\n",
       "      <td>-0.47160</td>\n",
       "      <td>0.18048</td>\n",
       "      <td>0.54449</td>\n",
       "      <td>0.726030</td>\n",
       "      <td>0.18157</td>\n",
       "      <td>-0.52393</td>\n",
       "      <td>0.10381</td>\n",
       "      <td>-0.175660</td>\n",
       "      <td>...</td>\n",
       "      <td>-0.347270</td>\n",
       "      <td>0.284830</td>\n",
       "      <td>0.075693</td>\n",
       "      <td>-0.062178</td>\n",
       "      <td>-0.38988</td>\n",
       "      <td>0.229020</td>\n",
       "      <td>-0.216170</td>\n",
       "      <td>-0.225620</td>\n",
       "      <td>-0.093918</td>\n",
       "      <td>-0.80375</td>\n",
       "    </tr>\n",
       "    <tr>\n",
       "      <th>to</th>\n",
       "      <td>0.680470</td>\n",
       "      <td>-0.039263</td>\n",
       "      <td>0.30186</td>\n",
       "      <td>-0.17792</td>\n",
       "      <td>0.42962</td>\n",
       "      <td>0.032246</td>\n",
       "      <td>-0.41376</td>\n",
       "      <td>0.13228</td>\n",
       "      <td>-0.29847</td>\n",
       "      <td>-0.085253</td>\n",
       "      <td>...</td>\n",
       "      <td>-0.094375</td>\n",
       "      <td>0.018324</td>\n",
       "      <td>0.210480</td>\n",
       "      <td>-0.030880</td>\n",
       "      <td>-0.19722</td>\n",
       "      <td>0.082279</td>\n",
       "      <td>-0.094340</td>\n",
       "      <td>-0.073297</td>\n",
       "      <td>-0.064699</td>\n",
       "      <td>-0.26044</td>\n",
       "    </tr>\n",
       "  </tbody>\n",
       "</table>\n",
       "<p>5 rows × 50 columns</p>\n",
       "</div>"
      ],
      "text/plain": [
       "               1         2        3        4        5         6        7   \\\n",
       "wording                                                                     \n",
       "the      0.418000  0.249680 -0.41242  0.12170  0.34527 -0.044457 -0.49688   \n",
       ",        0.013441  0.236820 -0.16899  0.40951  0.63812  0.477090 -0.42852   \n",
       ".        0.151640  0.301770 -0.16763  0.17684  0.31719  0.339730 -0.43478   \n",
       "of       0.708530  0.570880 -0.47160  0.18048  0.54449  0.726030  0.18157   \n",
       "to       0.680470 -0.039263  0.30186 -0.17792  0.42962  0.032246 -0.41376   \n",
       "\n",
       "              8        9         10  ...        41        42        43  \\\n",
       "wording                              ...                                 \n",
       "the     -0.17862 -0.00066 -0.656600  ... -0.298710 -0.157490 -0.347580   \n",
       ",       -0.55641 -0.36400 -0.239380  ... -0.080262  0.630030  0.321110   \n",
       ".       -0.31086 -0.44999 -0.294860  ... -0.000064  0.068987  0.087939   \n",
       "of      -0.52393  0.10381 -0.175660  ... -0.347270  0.284830  0.075693   \n",
       "to       0.13228 -0.29847 -0.085253  ... -0.094375  0.018324  0.210480   \n",
       "\n",
       "               44       45        46        47        48        49       50  \n",
       "wording                                                                      \n",
       "the     -0.045637 -0.44251  0.187850  0.002785 -0.184110 -0.115140 -0.78581  \n",
       ",       -0.467650  0.22786  0.360340 -0.378180 -0.566570  0.044691  0.30392  \n",
       ".       -0.102850 -0.13931  0.223140 -0.080803 -0.356520  0.016413  0.10216  \n",
       "of      -0.062178 -0.38988  0.229020 -0.216170 -0.225620 -0.093918 -0.80375  \n",
       "to      -0.030880 -0.19722  0.082279 -0.094340 -0.073297 -0.064699 -0.26044  \n",
       "\n",
       "[5 rows x 50 columns]"
      ]
     },
     "execution_count": 10,
     "metadata": {},
     "output_type": "execute_result"
    }
   ],
   "source": [
    "embeddings.head()"
   ]
  },
  {
   "cell_type": "markdown",
   "id": "f48ae731",
   "metadata": {},
   "source": [
    "### Now we will add in our list of occputations & write a function that will allow us to quickly get the similarity measure between the a set of word vectors & the vectors of two seperate words."
   ]
  },
  {
   "cell_type": "code",
   "execution_count": 11,
   "id": "a4bc700f",
   "metadata": {},
   "outputs": [
    {
     "name": "stderr",
     "output_type": "stream",
     "text": [
      "C:\\Users\\gupta\\AppData\\Local\\Temp\\ipykernel_9880\\2339466480.py:1: FutureWarning: The behavior of `series[i:j]` with an integer-dtype index is deprecated. In a future version, this will be treated as *label-based* indexing, consistent with e.g. `series[i]` lookups. To retain the old behavior, use `series.iloc[i:j]`. To get the future behavior, use `series.loc[i:j]`.\n",
      "  he = np.array(embeddings.loc['he'][1:])\n",
      "C:\\Users\\gupta\\AppData\\Local\\Temp\\ipykernel_9880\\2339466480.py:2: FutureWarning: The behavior of `series[i:j]` with an integer-dtype index is deprecated. In a future version, this will be treated as *label-based* indexing, consistent with e.g. `series[i]` lookups. To retain the old behavior, use `series.iloc[i:j]`. To get the future behavior, use `series.loc[i:j]`.\n",
      "  she = np.array(embeddings.loc['she'][1:])\n"
     ]
    }
   ],
   "source": [
    "# get the vectors for \"he\" and \"she\"\n",
    "he = np.array(embeddings.loc['he'][1:])\n",
    "she = np.array(embeddings.loc['she'][1:])"
   ]
  },
  {
   "cell_type": "code",
   "execution_count": 12,
   "id": "997e011e",
   "metadata": {},
   "outputs": [],
   "source": [
    "\n",
    "# Some occupations are two-word phrases, but since these vectors are for single words, I picked one word for each two-word phrase\n",
    "heOccupations = [\"maestro\", \"skipper\", \"protege\", \"philosopher\", \"captain\",\n",
    "                 \"architect\", \"financier\", \"warrior\", \"broadcaster\", \"magician\",\n",
    "                 \"pilot\", \"boss\"]\n",
    "sheOccupations = [\"homemaker\", \"nurse\", \"receptionist\", \"librarian\", \"socialite\",\n",
    "                 \"hairdresser\", \"nanny\", \"bookkeeper\", \"stylist\", \"housekeeper\",\n",
    "                 \"designer\", \"counselor\"]"
   ]
  },
  {
   "cell_type": "code",
   "execution_count": 18,
   "id": "e5ba5164",
   "metadata": {},
   "outputs": [
    {
     "name": "stderr",
     "output_type": "stream",
     "text": [
      "C:\\Users\\gupta\\AppData\\Local\\Temp\\ipykernel_9880\\1415368854.py:44: FutureWarning: The behavior of `series[i:j]` with an integer-dtype index is deprecated. In a future version, this will be treated as *label-based* indexing, consistent with e.g. `series[i]` lookups. To retain the old behavior, use `series.iloc[i:j]`. To get the future behavior, use `series.loc[i:j]`.\n",
      "  wordVec = np.array(smallerEmbeddingsList.loc[i][1:])\n",
      "C:\\Users\\gupta\\AppData\\Local\\Temp\\ipykernel_9880\\1415368854.py:44: FutureWarning: The behavior of `series[i:j]` with an integer-dtype index is deprecated. In a future version, this will be treated as *label-based* indexing, consistent with e.g. `series[i]` lookups. To retain the old behavior, use `series.iloc[i:j]`. To get the future behavior, use `series.loc[i:j]`.\n",
      "  wordVec = np.array(smallerEmbeddingsList.loc[i][1:])\n",
      "C:\\Users\\gupta\\AppData\\Local\\Temp\\ipykernel_9880\\1415368854.py:44: FutureWarning: The behavior of `series[i:j]` with an integer-dtype index is deprecated. In a future version, this will be treated as *label-based* indexing, consistent with e.g. `series[i]` lookups. To retain the old behavior, use `series.iloc[i:j]`. To get the future behavior, use `series.loc[i:j]`.\n",
      "  wordVec = np.array(smallerEmbeddingsList.loc[i][1:])\n",
      "C:\\Users\\gupta\\AppData\\Local\\Temp\\ipykernel_9880\\1415368854.py:44: FutureWarning: The behavior of `series[i:j]` with an integer-dtype index is deprecated. In a future version, this will be treated as *label-based* indexing, consistent with e.g. `series[i]` lookups. To retain the old behavior, use `series.iloc[i:j]`. To get the future behavior, use `series.loc[i:j]`.\n",
      "  wordVec = np.array(smallerEmbeddingsList.loc[i][1:])\n",
      "C:\\Users\\gupta\\AppData\\Local\\Temp\\ipykernel_9880\\1415368854.py:44: FutureWarning: The behavior of `series[i:j]` with an integer-dtype index is deprecated. In a future version, this will be treated as *label-based* indexing, consistent with e.g. `series[i]` lookups. To retain the old behavior, use `series.iloc[i:j]`. To get the future behavior, use `series.loc[i:j]`.\n",
      "  wordVec = np.array(smallerEmbeddingsList.loc[i][1:])\n",
      "C:\\Users\\gupta\\AppData\\Local\\Temp\\ipykernel_9880\\1415368854.py:44: FutureWarning: The behavior of `series[i:j]` with an integer-dtype index is deprecated. In a future version, this will be treated as *label-based* indexing, consistent with e.g. `series[i]` lookups. To retain the old behavior, use `series.iloc[i:j]`. To get the future behavior, use `series.loc[i:j]`.\n",
      "  wordVec = np.array(smallerEmbeddingsList.loc[i][1:])\n",
      "C:\\Users\\gupta\\AppData\\Local\\Temp\\ipykernel_9880\\1415368854.py:44: FutureWarning: The behavior of `series[i:j]` with an integer-dtype index is deprecated. In a future version, this will be treated as *label-based* indexing, consistent with e.g. `series[i]` lookups. To retain the old behavior, use `series.iloc[i:j]`. To get the future behavior, use `series.loc[i:j]`.\n",
      "  wordVec = np.array(smallerEmbeddingsList.loc[i][1:])\n",
      "C:\\Users\\gupta\\AppData\\Local\\Temp\\ipykernel_9880\\1415368854.py:44: FutureWarning: The behavior of `series[i:j]` with an integer-dtype index is deprecated. In a future version, this will be treated as *label-based* indexing, consistent with e.g. `series[i]` lookups. To retain the old behavior, use `series.iloc[i:j]`. To get the future behavior, use `series.loc[i:j]`.\n",
      "  wordVec = np.array(smallerEmbeddingsList.loc[i][1:])\n",
      "C:\\Users\\gupta\\AppData\\Local\\Temp\\ipykernel_9880\\1415368854.py:44: FutureWarning: The behavior of `series[i:j]` with an integer-dtype index is deprecated. In a future version, this will be treated as *label-based* indexing, consistent with e.g. `series[i]` lookups. To retain the old behavior, use `series.iloc[i:j]`. To get the future behavior, use `series.loc[i:j]`.\n",
      "  wordVec = np.array(smallerEmbeddingsList.loc[i][1:])\n",
      "C:\\Users\\gupta\\AppData\\Local\\Temp\\ipykernel_9880\\1415368854.py:44: FutureWarning: The behavior of `series[i:j]` with an integer-dtype index is deprecated. In a future version, this will be treated as *label-based* indexing, consistent with e.g. `series[i]` lookups. To retain the old behavior, use `series.iloc[i:j]`. To get the future behavior, use `series.loc[i:j]`.\n",
      "  wordVec = np.array(smallerEmbeddingsList.loc[i][1:])\n",
      "C:\\Users\\gupta\\AppData\\Local\\Temp\\ipykernel_9880\\1415368854.py:44: FutureWarning: The behavior of `series[i:j]` with an integer-dtype index is deprecated. In a future version, this will be treated as *label-based* indexing, consistent with e.g. `series[i]` lookups. To retain the old behavior, use `series.iloc[i:j]`. To get the future behavior, use `series.loc[i:j]`.\n",
      "  wordVec = np.array(smallerEmbeddingsList.loc[i][1:])\n",
      "C:\\Users\\gupta\\AppData\\Local\\Temp\\ipykernel_9880\\1415368854.py:44: FutureWarning: The behavior of `series[i:j]` with an integer-dtype index is deprecated. In a future version, this will be treated as *label-based* indexing, consistent with e.g. `series[i]` lookups. To retain the old behavior, use `series.iloc[i:j]`. To get the future behavior, use `series.loc[i:j]`.\n",
      "  wordVec = np.array(smallerEmbeddingsList.loc[i][1:])\n"
     ]
    },
    {
     "name": "stdout",
     "output_type": "stream",
     "text": [
      "          he        she          word            bias\n",
      "0   5.063854   3.202725       maestro   heOccupations\n",
      "0   9.933387   5.656273       skipper   heOccupations\n",
      "0   4.793510   3.736121       protege   heOccupations\n",
      "0   8.586571   6.391808   philosopher   heOccupations\n",
      "0  17.709099  13.038669       captain   heOccupations\n",
      "0  11.183532   7.856621     architect   heOccupations\n",
      "0   4.955236   1.424195     financier   heOccupations\n",
      "0   8.544932   8.222232       warrior   heOccupations\n",
      "0   8.644283   7.467735   broadcaster   heOccupations\n",
      "0   6.626371   6.929187      magician   heOccupations\n",
      "0  13.850102  14.152126         pilot   heOccupations\n",
      "0  15.226570  11.832751          boss   heOccupations\n",
      "0   4.835917   9.010248     homemaker  sheOccupations\n",
      "0  13.028105  17.947101         nurse  sheOccupations\n",
      "0   3.980630   7.687030  receptionist  sheOccupations\n",
      "0   8.511658   9.981073     librarian  sheOccupations\n",
      "0   1.124831   6.359936     socialite  sheOccupations\n",
      "0   3.876794   7.707987   hairdresser  sheOccupations\n",
      "0   5.815129   9.844102         nanny  sheOccupations\n",
      "0   4.329514   4.557832    bookkeeper  sheOccupations\n"
     ]
    },
    {
     "name": "stderr",
     "output_type": "stream",
     "text": [
      "C:\\Users\\gupta\\AppData\\Local\\Temp\\ipykernel_9880\\1415368854.py:44: FutureWarning: The behavior of `series[i:j]` with an integer-dtype index is deprecated. In a future version, this will be treated as *label-based* indexing, consistent with e.g. `series[i]` lookups. To retain the old behavior, use `series.iloc[i:j]`. To get the future behavior, use `series.loc[i:j]`.\n",
      "  wordVec = np.array(smallerEmbeddingsList.loc[i][1:])\n",
      "C:\\Users\\gupta\\AppData\\Local\\Temp\\ipykernel_9880\\1415368854.py:44: FutureWarning: The behavior of `series[i:j]` with an integer-dtype index is deprecated. In a future version, this will be treated as *label-based* indexing, consistent with e.g. `series[i]` lookups. To retain the old behavior, use `series.iloc[i:j]`. To get the future behavior, use `series.loc[i:j]`.\n",
      "  wordVec = np.array(smallerEmbeddingsList.loc[i][1:])\n",
      "C:\\Users\\gupta\\AppData\\Local\\Temp\\ipykernel_9880\\1415368854.py:44: FutureWarning: The behavior of `series[i:j]` with an integer-dtype index is deprecated. In a future version, this will be treated as *label-based* indexing, consistent with e.g. `series[i]` lookups. To retain the old behavior, use `series.iloc[i:j]`. To get the future behavior, use `series.loc[i:j]`.\n",
      "  wordVec = np.array(smallerEmbeddingsList.loc[i][1:])\n",
      "C:\\Users\\gupta\\AppData\\Local\\Temp\\ipykernel_9880\\1415368854.py:44: FutureWarning: The behavior of `series[i:j]` with an integer-dtype index is deprecated. In a future version, this will be treated as *label-based* indexing, consistent with e.g. `series[i]` lookups. To retain the old behavior, use `series.iloc[i:j]`. To get the future behavior, use `series.loc[i:j]`.\n",
      "  wordVec = np.array(smallerEmbeddingsList.loc[i][1:])\n",
      "C:\\Users\\gupta\\AppData\\Local\\Temp\\ipykernel_9880\\1415368854.py:44: FutureWarning: The behavior of `series[i:j]` with an integer-dtype index is deprecated. In a future version, this will be treated as *label-based* indexing, consistent with e.g. `series[i]` lookups. To retain the old behavior, use `series.iloc[i:j]`. To get the future behavior, use `series.loc[i:j]`.\n",
      "  wordVec = np.array(smallerEmbeddingsList.loc[i][1:])\n",
      "C:\\Users\\gupta\\AppData\\Local\\Temp\\ipykernel_9880\\1415368854.py:44: FutureWarning: The behavior of `series[i:j]` with an integer-dtype index is deprecated. In a future version, this will be treated as *label-based* indexing, consistent with e.g. `series[i]` lookups. To retain the old behavior, use `series.iloc[i:j]`. To get the future behavior, use `series.loc[i:j]`.\n",
      "  wordVec = np.array(smallerEmbeddingsList.loc[i][1:])\n",
      "C:\\Users\\gupta\\AppData\\Local\\Temp\\ipykernel_9880\\1415368854.py:44: FutureWarning: The behavior of `series[i:j]` with an integer-dtype index is deprecated. In a future version, this will be treated as *label-based* indexing, consistent with e.g. `series[i]` lookups. To retain the old behavior, use `series.iloc[i:j]`. To get the future behavior, use `series.loc[i:j]`.\n",
      "  wordVec = np.array(smallerEmbeddingsList.loc[i][1:])\n",
      "C:\\Users\\gupta\\AppData\\Local\\Temp\\ipykernel_9880\\1415368854.py:44: FutureWarning: The behavior of `series[i:j]` with an integer-dtype index is deprecated. In a future version, this will be treated as *label-based* indexing, consistent with e.g. `series[i]` lookups. To retain the old behavior, use `series.iloc[i:j]`. To get the future behavior, use `series.loc[i:j]`.\n",
      "  wordVec = np.array(smallerEmbeddingsList.loc[i][1:])\n",
      "C:\\Users\\gupta\\AppData\\Local\\Temp\\ipykernel_9880\\1415368854.py:44: FutureWarning: The behavior of `series[i:j]` with an integer-dtype index is deprecated. In a future version, this will be treated as *label-based* indexing, consistent with e.g. `series[i]` lookups. To retain the old behavior, use `series.iloc[i:j]`. To get the future behavior, use `series.loc[i:j]`.\n",
      "  wordVec = np.array(smallerEmbeddingsList.loc[i][1:])\n",
      "C:\\Users\\gupta\\AppData\\Local\\Temp\\ipykernel_9880\\1415368854.py:44: FutureWarning: The behavior of `series[i:j]` with an integer-dtype index is deprecated. In a future version, this will be treated as *label-based* indexing, consistent with e.g. `series[i]` lookups. To retain the old behavior, use `series.iloc[i:j]`. To get the future behavior, use `series.loc[i:j]`.\n",
      "  wordVec = np.array(smallerEmbeddingsList.loc[i][1:])\n",
      "C:\\Users\\gupta\\AppData\\Local\\Temp\\ipykernel_9880\\1415368854.py:44: FutureWarning: The behavior of `series[i:j]` with an integer-dtype index is deprecated. In a future version, this will be treated as *label-based* indexing, consistent with e.g. `series[i]` lookups. To retain the old behavior, use `series.iloc[i:j]`. To get the future behavior, use `series.loc[i:j]`.\n",
      "  wordVec = np.array(smallerEmbeddingsList.loc[i][1:])\n",
      "C:\\Users\\gupta\\AppData\\Local\\Temp\\ipykernel_9880\\1415368854.py:44: FutureWarning: The behavior of `series[i:j]` with an integer-dtype index is deprecated. In a future version, this will be treated as *label-based* indexing, consistent with e.g. `series[i]` lookups. To retain the old behavior, use `series.iloc[i:j]`. To get the future behavior, use `series.loc[i:j]`.\n",
      "  wordVec = np.array(smallerEmbeddingsList.loc[i][1:])\n"
     ]
    }
   ],
   "source": [
    "import inspect\n",
    "\n",
    "# function to get the similarity between words \n",
    "def wordEmbeddingSimilarity(words, he, she, embeddings):\n",
    "    # empty dataframe to put our embeddings subset in\n",
    "    smallerEmbeddingsList = pd.DataFrame()\n",
    "    \n",
    "    # get the vector for each word of interest\n",
    "    for word in words:\n",
    "        new = embeddings.loc[word].to_frame().transpose()\n",
    "        smallerEmbeddingsList = pd.concat([smallerEmbeddingsList, new], ignore_index=True)\n",
    "    \n",
    "    # empty dataframe to put our similarity measures in\n",
    "    similarity = pd.DataFrame(columns=[\"he\", \"she\", \"word\", \"bias\"])\n",
    "\n",
    "    #    function for getting the bias name.\n",
    "    def get_list_name(heOccupations, sheOccupations, input_value):\n",
    "        list1_name = [k for k, v in locals().items() if v == heOccupations][0]\n",
    "        list2_name = [k for k, v in locals().items() if v == sheOccupations][0]\n",
    "\n",
    "        if input_value in heOccupations:\n",
    "            return \"heOccupations\"\n",
    "        elif input_value in sheOccupations:\n",
    "            return \"sheOccupations\"\n",
    "        else:\n",
    "            return None\n",
    "    \n",
    "    # get similarity measures for the list of words w/both \"he\" and \"she\"\n",
    "    for i in range(smallerEmbeddingsList.shape[0]):\n",
    "        word = smallerEmbeddingsList.loc[i, 1]\n",
    "        wordVec = np.array(smallerEmbeddingsList.loc[i][1:])\n",
    "        sheSim = np.dot(wordVec, she)\n",
    "        heSim = np.dot(wordVec, he)\n",
    "        #similarity = similarity.append(pd.DataFrame({\"he\": heSim, \"she\": sheSim, \"word\": word, \"bias\": \"he-she\"}))\n",
    "        similarity = pd.concat([similarity, pd.DataFrame({'he': [heSim], 'she': [sheSim], 'word': [words[i]], 'bias': [get_list_name(heOccupations,sheOccupations, words[i])]})])\n",
    "       \n",
    "    \n",
    "    # return our similarity metrics\n",
    "    return similarity\n",
    "\n",
    "# get similarity measures for \"he\" occupations\n",
    "heOccupationsSimilarity = wordEmbeddingSimilarity(heOccupations, he, she, embeddings)\n",
    "\n",
    "# get similarity measures for \"she\" occupations\n",
    "sheOccupationsSimilarity = wordEmbeddingSimilarity(sheOccupations, he, she, embeddings)\n",
    "\n",
    "# combine dataframes\n",
    "similarityMeasures = pd.concat([heOccupationsSimilarity, sheOccupationsSimilarity])\n",
    "similarityMeasures= pd.DataFrame(similarityMeasures)\n",
    "print(similarityMeasures.head(20))"
   ]
  },
  {
   "cell_type": "markdown",
   "id": "bc70e40a",
   "metadata": {},
   "source": [
    "## Visualize these similarities & see if our reuslts are similar to the authors' findings."
   ]
  },
  {
   "cell_type": "code",
   "execution_count": 22,
   "id": "7db136a7",
   "metadata": {},
   "outputs": [
    {
     "data": {
      "image/png": "[encoded data removed]",
      "text/plain": [
       "<Figure size 576x432 with 1 Axes>"
      ]
     },
     "metadata": {
      "needs_background": "light"
     },
     "output_type": "display_data"
    }
   ],
   "source": [
    "similarityMeasures = pd.DataFrame(similarityMeasures)\n",
    "similarityMeasures['he'] = pd.to_numeric(similarityMeasures['he'])\n",
    "similarityMeasures['she'] = pd.to_numeric(similarityMeasures['she'])\n",
    "\n",
    "similarityMeasures['bias'] = similarityMeasures['bias'].astype('category')\n",
    "\n",
    "plt.figure(figsize=(8, 6))\n",
    "sns.scatterplot(x='he', y='she', hue='bias', data=similarityMeasures)\n",
    "\n",
    "# add title and labels\n",
    "plt.title('Gender Bias Word Embeddings')\n",
    "plt.xlabel('he')\n",
    "plt.ylabel('she')\n",
    "\n",
    "plt.show()\n"
   ]
  },
  {
   "cell_type": "code",
   "execution_count": 23,
   "id": "b91d9c37",
   "metadata": {},
   "outputs": [],
   "source": [
    "# From the above graph, we can clearly see the seperation between these two classes of words. Let's look at it another way."
   ]
  },
  {
   "cell_type": "code",
   "execution_count": 27,
   "id": "20c47f64",
   "metadata": {},
   "outputs": [
    {
     "data": {
      "image/png": "[encoded data removed]",
      "text/plain": [
       "<Figure size 576x432 with 1 Axes>"
      ]
     },
     "metadata": {
      "needs_background": "light"
     },
     "output_type": "display_data"
    }
   ],
   "source": [
    "# lets plot the difference of \"he\" and \"she\" similarity metrics. Hhigher = more \"he\" bias, Lower = more \"she\" bias\n",
    "\n",
    "# create a new column for the difference between \"he\" and \"she\" similarity metrics\n",
    "similarityMeasures['difference'] = similarityMeasures['he'] - similarityMeasures['she']\n",
    "plt.figure(figsize=(8, 6))\n",
    "# plot the density of the difference by bias\n",
    "sns.kdeplot(data=similarityMeasures, x='difference', hue='bias', fill=True, common_norm=False)\n",
    "\n",
    "# add labels and a title\n",
    "plt.xlabel('Difference between \"he\" and \"she\" similarity metrics')\n",
    "plt.ylabel('Density')\n",
    "plt.title('Gender Bias in Word Embeddings')\n",
    "plt.show()"
   ]
  },
  {
   "cell_type": "markdown",
   "id": "427907c1",
   "metadata": {},
   "source": [
    "### Based on the analysis, it seems that the biases that were discovered in the Authors' study for word2vec vectors trained on the Google News corpus are also present in the GloVe vectors trained on a corpus that consists of the Wikipedia and Gigaword corpora combined. This indicates that the earlier findings were not due to specific factors such as the use of news stories or the word2vec algorithm. Hence the bias is present."
   ]
  }
 ],
 "metadata": {
  "kernelspec": {
   "display_name": "Python 3 (ipykernel)",
   "language": "python",
   "name": "python3"
  },
  "language_info": {
   "codemirror_mode": {
    "name": "ipython",
    "version": 3
   },
   "file_extension": ".py",
   "mimetype": "text/x-python",
   "name": "python",
   "nbconvert_exporter": "python",
   "pygments_lexer": "ipython3",
   "version": "3.10.5"
  }
 },
 "nbformat": 4,
 "nbformat_minor": 5
}
